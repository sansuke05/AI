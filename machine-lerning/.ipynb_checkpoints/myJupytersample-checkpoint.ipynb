{
 "cells": [
  {
   "cell_type": "code",
   "execution_count": 2,
   "metadata": {},
   "outputs": [
    {
     "data": {
      "text/plain": [
       "[<matplotlib.lines.Line2D at 0x10ea030f0>]"
      ]
     },
     "execution_count": 2,
     "metadata": {},
     "output_type": "execute_result"
    },
    {
     "data": {
      "image/png": "[encoded data removed]",
      "text/plain": [
       "<matplotlib.figure.Figure at 0x10dc24400>"
      ]
     },
     "metadata": {},
     "output_type": "display_data"
    }
   ],
   "source": [
    "import numpy as np\n",
    "import matplotlib.pyplot as plt\n",
    "\n",
    "def DINP(frameR):\n",
    "    data = np.loadtxt(frameR, skiprows=1, usecols=(0,1,2))\n",
    "    EL1=data[:,0]\n",
    "    EL2=data[:,1]\n",
    "    QQ=data[:,2]\n",
    "    return (EL1,EL2,QQ)\n",
    "\n",
    "frameR = 'data.txt'\n",
    "(EL1,EL2,QQ) = DINP(frameR)\n",
    "\n",
    "#Plot\n",
    "fig = plt.figure()\n",
    "plt.plot(QQ,EL1,color='red',lw=2.0,label='Upstream WL')\n",
    "plt.plot(QQ,EL2,color='blue',lw=2.0,label='Downstream WL')"
   ]
  },
  {
   "cell_type": "code",
   "execution_count": null,
   "metadata": {},
   "outputs": [],
   "source": []
  }
 ],
 "metadata": {
  "kernelspec": {
   "display_name": "Python 3",
   "language": "python",
   "name": "python3"
  },
  "language_info": {
   "codemirror_mode": {
    "name": "ipython",
    "version": 3
   },
   "file_extension": ".py",
   "mimetype": "text/x-python",
   "name": "python",
   "nbconvert_exporter": "python",
   "pygments_lexer": "ipython3",
   "version": "3.6.3"
  }
 },
 "nbformat": 4,
 "nbformat_minor": 2
}
